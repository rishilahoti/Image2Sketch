{
 "cells": [
  {
   "cell_type": "code",
   "execution_count": 1,
   "metadata": {},
   "outputs": [],
   "source": [
    "import cv2\n",
    "import matplotlib.pyplot as plt\n",
    "import numpy as np\n",
    "from PIL import Image,ImageTk\n",
    "import PIL\n",
    "\n",
    "class transform:\n",
    "    def __init__(self,path,ksize = 7,depth = .7):\n",
    "        self.path = path\n",
    "        self.disp_img = PIL.Image.open(path).resize((285,275))\n",
    "        self.image =  cv2.resize(cv2.imread(path),(285,275))\n",
    "        self.image_rgb = cv2.cvtColor(self.image, cv2.COLOR_BGR2RGB)\n",
    "        self.new = None\n",
    "        self.k_size = ksize\n",
    "        self.depth = depth\n",
    "    def convert(self):\n",
    "        grey_img = cv2.cvtColor(self.image, cv2.COLOR_BGR2GRAY)\n",
    "        invert_img=cv2.bitwise_not(grey_img)\n",
    "        blur_img=cv2.GaussianBlur(invert_img, (self.k_size,self.k_size),0)\n",
    "        invblur_img=cv2.bitwise_not(blur_img)\n",
    "        self.new=cv2.divide(grey_img,invblur_img, scale=256.0)\n",
    "        self.sketch = PIL.Image.fromarray(self.new)\n",
    "        return self.sketch\n",
    "\n",
    "    def display(self):\n",
    "        if self.new == None:\n",
    "            _ = self.convert()\n",
    "        fig = plt.figure()\n",
    "        ax1 = fig.add_subplot(1,2,1)\n",
    "        ax1.imshow(self.image_rgb)\n",
    "        ax2 = fig.add_subplot(1,2,2)\n",
    "        ax2.imshow(self.minimize(self.new), cmap = 'gray')\n",
    "    def minimize(self,data):\n",
    "        data = data/data.max()\n",
    "        data -= data.min()\n",
    "        return np.clip(data - (data.max()*self.depth),0,1)\n"
   ]
  },
  {
   "cell_type": "code",
   "execution_count": 2,
   "metadata": {},
   "outputs": [
    {
     "ename": "ModuleNotFoundError",
     "evalue": "No module named 'TkinterDnD2'",
     "output_type": "error",
     "traceback": [
      "\u001b[1;31m---------------------------------------------------------------------------\u001b[0m",
      "\u001b[1;31mModuleNotFoundError\u001b[0m                       Traceback (most recent call last)",
      "\u001b[1;32mc:\\Users\\rishi\\OneDrive\\Desktop\\coding\\py\\projectsem1\\project_sem1.ipynb Cell 2'\u001b[0m in \u001b[0;36m<cell line: 2>\u001b[1;34m()\u001b[0m\n\u001b[0;32m      <a href='vscode-notebook-cell:/c%3A/Users/rishi/OneDrive/Desktop/coding/py/projectsem1/project_sem1.ipynb#ch0000001?line=0'>1</a>\u001b[0m \u001b[39mfrom\u001b[39;00m \u001b[39mtkinter\u001b[39;00m \u001b[39mimport\u001b[39;00m \u001b[39m*\u001b[39m\n\u001b[1;32m----> <a href='vscode-notebook-cell:/c%3A/Users/rishi/OneDrive/Desktop/coding/py/projectsem1/project_sem1.ipynb#ch0000001?line=1'>2</a>\u001b[0m \u001b[39mfrom\u001b[39;00m \u001b[39mTkinterDnD2\u001b[39;00m \u001b[39mimport\u001b[39;00m \u001b[39m*\u001b[39m\n\u001b[0;32m      <a href='vscode-notebook-cell:/c%3A/Users/rishi/OneDrive/Desktop/coding/py/projectsem1/project_sem1.ipynb#ch0000001?line=2'>3</a>\u001b[0m \u001b[39mimport\u001b[39;00m \u001b[39mtkinter\u001b[39;00m \u001b[39mas\u001b[39;00m \u001b[39mtk\u001b[39;00m\n\u001b[0;32m      <a href='vscode-notebook-cell:/c%3A/Users/rishi/OneDrive/Desktop/coding/py/projectsem1/project_sem1.ipynb#ch0000001?line=3'>4</a>\u001b[0m \u001b[39mdef\u001b[39;00m \u001b[39mdisplay_img\u001b[39m(event):\n",
      "\u001b[1;31mModuleNotFoundError\u001b[0m: No module named 'TkinterDnD2'"
     ]
    }
   ],
   "source": [
    "from tkinter import *\n",
    "from TkinterDnD2 import *\n",
    "import tkinter as tk\n",
    "def display_img(event):\n",
    "    print(event.data[1:-1])\n",
    "    path = event.data[1:-1]\n",
    "    func = transform(path)\n",
    "    photo = ImageTk.PhotoImage(func.disp_img)\n",
    "    sketch = ImageTk.PhotoImage(func.convert())\n",
    "    image_entry = tk.Label(ws,image = photo)\n",
    "    image_entry.image = photo\n",
    "    image_entry.place(relx = .1,rely = .23)\n",
    "\n",
    "    sketch_entry = tk.Label(ws,image = sketch)\n",
    "    sketch_entry.image = sketch\n",
    "    sketch_entry.place(relx = .55,rely = .23)\n",
    "    \n",
    "ws = TkinterDnD.Tk()\n",
    "ws.title('PythonGuides')\n",
    "ws.geometry('800x500')\n",
    "ws.config(bg='#fcb103')\n",
    "\n",
    "\n",
    "image_entry = tk.Label(ws, height=18, width=40)\n",
    "image_entry.place(relx = .1,rely = .23)\n",
    "#image_entry.pack()\n",
    "image_entry.drop_target_register(DND_FILES)\n",
    "image_entry.dnd_bind('<<Drop>>', display_img)\n",
    "\n",
    "sketch_entry = tk.Label(ws, height=18, width=40)\n",
    "sketch_entry.place(relx = .55,rely = .23)\n",
    "\n",
    "ws.mainloop()"
   ]
  }
 ],
 "metadata": {
  "kernelspec": {
   "display_name": "Python 3.9.13 64-bit (microsoft store)",
   "language": "python",
   "name": "python3"
  },
  "language_info": {
   "codemirror_mode": {
    "name": "ipython",
    "version": 3
   },
   "file_extension": ".py",
   "mimetype": "text/x-python",
   "name": "python",
   "nbconvert_exporter": "python",
   "pygments_lexer": "ipython3",
   "version": "3.9.13 (tags/v3.9.13:6de2ca5, May 17 2022, 16:36:42) [MSC v.1929 64 bit (AMD64)]"
  },
  "orig_nbformat": 4,
  "vscode": {
   "interpreter": {
    "hash": "8e284ee3255a07ad8bf76694974743c4c81cb57e7c969474d752d949b11d721e"
   }
  }
 },
 "nbformat": 4,
 "nbformat_minor": 2
}
