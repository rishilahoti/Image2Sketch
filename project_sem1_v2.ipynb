{
 "cells": [
  {
   "cell_type": "code",
   "execution_count": 1,
   "metadata": {},
   "outputs": [],
   "source": [
    "from tkinter import *\n",
    "from tkinterDnD2 import *\n",
    "import cv2\n",
    "import matplotlib.pyplot as plt\n",
    "import numpy as np\n",
    "from PIL import Image,ImageTk\n",
    "import PIL\n",
    "class transform:\n",
    "    def __init__(self,path,ksize = 7,depth = .7):\n",
    "        self.path = path\n",
    "        self.disp_img = PIL.Image.open(path).resize((285,275))\n",
    "        self.image =  cv2.resize(cv2.imread(path),(285,275))\n",
    "        self.image_rgb = cv2.cvtColor(self.image, cv2.COLOR_BGR2RGB)\n",
    "        self.new = None\n",
    "        self.k_size = ksize\n",
    "        self.depth = depth\n",
    "    def convert(self):\n",
    "        grey_img = cv2.cvtColor(self.image, cv2.COLOR_BGR2GRAY)\n",
    "        invert_img=cv2.bitwise_not(grey_img)\n",
    "        blur_img=cv2.GaussianBlur(invert_img, (self.k_size,self.k_size),0)\n",
    "        invblur_img=cv2.bitwise_not(blur_img)\n",
    "        self.new=cv2.divide(grey_img,invblur_img, scale=256.0)\n",
    "        self.sketch = PIL.Image.fromarray(self.new)\n",
    "        return self.sketch\n",
    "\n",
    "    def display(self):\n",
    "        if self.new == None:\n",
    "            _ = self.convert()\n",
    "        fig = plt.figure()\n",
    "        ax1 = fig.add_subplot(1,2,1)\n",
    "        ax1.imshow(self.image_rgb)\n",
    "        ax2 = fig.add_subplot(1,2,2)\n",
    "        ax2.imshow(self.minimize(self.new), cmap = 'gray')\n",
    "    def minimize(self,data):\n",
    "        data = data/data.max()\n",
    "        data -= data.min()\n",
    "        return np.clip(data - (data.max()*self.depth),0,1)"
   ]
  },
  {
   "cell_type": "code",
   "execution_count": null,
   "metadata": {},
   "outputs": [],
   "source": []
  },
  {
   "cell_type": "code",
   "execution_count": 2,
   "metadata": {},
   "outputs": [
    {
     "ename": "NameError",
     "evalue": "name 'TkinterDnD' is not defined",
     "output_type": "error",
     "traceback": [
      "\u001b[1;31m---------------------------------------------------------------------------\u001b[0m",
      "\u001b[1;31mNameError\u001b[0m                                 Traceback (most recent call last)",
      "\u001b[1;32mc:\\Users\\rishi\\OneDrive\\Desktop\\coding\\py\\projectsem1\\project_sem1_v2.ipynb Cell 2'\u001b[0m in \u001b[0;36m<cell line: 37>\u001b[1;34m()\u001b[0m\n\u001b[0;32m     <a href='vscode-notebook-cell:/c%3A/Users/rishi/OneDrive/Desktop/coding/py/projectsem1/project_sem1_v2.ipynb#ch0000001?line=34'>35</a>\u001b[0m             sketch_entry \u001b[39m=\u001b[39m tk\u001b[39m.\u001b[39mLabel(\u001b[39mself\u001b[39m\u001b[39m.\u001b[39mws,text\u001b[39m=\u001b[39m\u001b[39m'\u001b[39m\u001b[39m⚠️please add an image\u001b[39m\u001b[39m'\u001b[39m)\n\u001b[0;32m     <a href='vscode-notebook-cell:/c%3A/Users/rishi/OneDrive/Desktop/coding/py/projectsem1/project_sem1_v2.ipynb#ch0000001?line=35'>36</a>\u001b[0m             sketch_entry\u001b[39m.\u001b[39mplace(relx \u001b[39m=\u001b[39m \u001b[39m.55\u001b[39m,rely \u001b[39m=\u001b[39m \u001b[39m.23\u001b[39m)\n\u001b[1;32m---> <a href='vscode-notebook-cell:/c%3A/Users/rishi/OneDrive/Desktop/coding/py/projectsem1/project_sem1_v2.ipynb#ch0000001?line=36'>37</a>\u001b[0m gui_stuff()\u001b[39m.\u001b[39;49mcreate_gui()\n",
      "\u001b[1;32mc:\\Users\\rishi\\OneDrive\\Desktop\\coding\\py\\projectsem1\\project_sem1_v2.ipynb Cell 2'\u001b[0m in \u001b[0;36mgui_stuff.create_gui\u001b[1;34m(self)\u001b[0m\n\u001b[0;32m      <a href='vscode-notebook-cell:/c%3A/Users/rishi/OneDrive/Desktop/coding/py/projectsem1/project_sem1_v2.ipynb#ch0000001?line=1'>2</a>\u001b[0m \u001b[39mdef\u001b[39;00m \u001b[39mcreate_gui\u001b[39m(\u001b[39mself\u001b[39m,):\n\u001b[0;32m      <a href='vscode-notebook-cell:/c%3A/Users/rishi/OneDrive/Desktop/coding/py/projectsem1/project_sem1_v2.ipynb#ch0000001?line=2'>3</a>\u001b[0m     \u001b[39mself\u001b[39m\u001b[39m.\u001b[39mfunc \u001b[39m=\u001b[39m \u001b[39mNone\u001b[39;00m\n\u001b[1;32m----> <a href='vscode-notebook-cell:/c%3A/Users/rishi/OneDrive/Desktop/coding/py/projectsem1/project_sem1_v2.ipynb#ch0000001?line=3'>4</a>\u001b[0m     \u001b[39mself\u001b[39m\u001b[39m.\u001b[39mws \u001b[39m=\u001b[39m TkinterDnD\u001b[39m.\u001b[39mTk()\n\u001b[0;32m      <a href='vscode-notebook-cell:/c%3A/Users/rishi/OneDrive/Desktop/coding/py/projectsem1/project_sem1_v2.ipynb#ch0000001?line=4'>5</a>\u001b[0m     \u001b[39mself\u001b[39m\u001b[39m.\u001b[39mws\u001b[39m.\u001b[39mtitle(\u001b[39m'\u001b[39m\u001b[39mSKETCH\u001b[39m\u001b[39m'\u001b[39m)\n\u001b[0;32m      <a href='vscode-notebook-cell:/c%3A/Users/rishi/OneDrive/Desktop/coding/py/projectsem1/project_sem1_v2.ipynb#ch0000001?line=5'>6</a>\u001b[0m     \u001b[39mself\u001b[39m\u001b[39m.\u001b[39mws\u001b[39m.\u001b[39mgeometry(\u001b[39m'\u001b[39m\u001b[39m800x500\u001b[39m\u001b[39m'\u001b[39m)\n",
      "\u001b[1;31mNameError\u001b[0m: name 'TkinterDnD' is not defined"
     ]
    }
   ],
   "source": [
    "class gui_stuff:\n",
    "    def create_gui(self,):\n",
    "        self.func = None\n",
    "        self.ws = TkinterDnD.Tk()\n",
    "        self.ws.title('SKETCH')\n",
    "        self.ws.geometry('800x500')\n",
    "        self.ws.config(bg='#152f31')\n",
    "        image_entry = tk.Label(self.ws, height=20, width=40)\n",
    "        image_entry.place(relx = .1,rely = .23)\n",
    "        image_entry.drop_target_register(DND_FILES)\n",
    "        image_entry.dnd_bind('<<Drop>>', self.display_img)\n",
    "\n",
    "        sketch_entry = tk.Label(self.ws, height=20, width=40)\n",
    "        sketch_entry.place(relx = .55,rely = .23)\n",
    "\n",
    "        converter = tk.Button(self.ws,text = 'CONVERT',height = 1,width = 10 ,command = self.display_sketch)\n",
    "        converter.place(relx = .45,rely = .85)\n",
    "        \n",
    "        self.ws.mainloop()\n",
    "    def display_img(self,event):\n",
    "        path = event.data[1:-1]\n",
    "        self.func = transform(path)\n",
    "        photo = ImageTk.PhotoImage(self.func.disp_img)\n",
    "        image_entry = tk.Label(self.ws,image = photo)\n",
    "        image_entry.image = photo\n",
    "        image_entry.place(relx = .1,rely = .23)\n",
    "    def display_sketch(self):\n",
    "        if self.func != None:\n",
    "            sketch = ImageTk.PhotoImage(self.func.convert())\n",
    "            sketch_entry = tk.Label(self.ws,image = sketch)\n",
    "            sketch_entry.image = sketch\n",
    "            sketch_entry.place(relx = .55,rely = .23)\n",
    "            \n",
    "        else:\n",
    "            sketch_entry = tk.Label(self.ws,text='⚠️please add an image')\n",
    "            sketch_entry.place(relx = .55,rely = .23)\n",
    "gui_stuff().create_gui()  \n",
    "\n",
    "\n",
    "\n"
   ]
  },
  {
   "cell_type": "code",
   "execution_count": null,
   "metadata": {},
   "outputs": [],
   "source": []
  }
 ],
 "metadata": {
  "interpreter": {
   "hash": "6121e351068d7978065be587a41a86280a4e8874592f2284ceb6ec178fb49e64"
  },
  "kernelspec": {
   "display_name": "Python 3.9.12 64-bit (windows store)",
   "language": "python",
   "name": "python3"
  },
  "language_info": {
   "codemirror_mode": {
    "name": "ipython",
    "version": 3
   },
   "file_extension": ".py",
   "mimetype": "text/x-python",
   "name": "python",
   "nbconvert_exporter": "python",
   "pygments_lexer": "ipython3",
   "version": "3.9.12"
  },
  "orig_nbformat": 4
 },
 "nbformat": 4,
 "nbformat_minor": 2
}
