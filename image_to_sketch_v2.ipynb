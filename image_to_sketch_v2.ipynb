{
 "cells": [
  {
   "cell_type": "code",
   "execution_count": 1,
   "metadata": {},
   "outputs": [],
   "source": [
    "import tkinter\n",
    "import tkinterdnd2\n",
    "from tkinterdnd2 import *\n",
    "from tkinter import *\n",
    "import tkinter as tk\n",
    "import cv2\n",
    "import matplotlib.pyplot as plt\n",
    "import numpy as np\n",
    "from PIL import Image,ImageTk\n",
    "import PIL\n",
    "class transform:\n",
    "    def __init__(self,path,ksize = 7,depth = .7):\n",
    "        self.path = path\n",
    "        self.disp_img = PIL.Image.open(path).resize((285,275))\n",
    "        self.image =  cv2.resize(cv2.imread(path),(285,275))\n",
    "        self.image_rgb = cv2.cvtColor(self.image, cv2.COLOR_BGR2RGB)\n",
    "        self.new = None\n",
    "        self.k_size = ksize\n",
    "        self.depth = depth\n",
    "    def convert(self):\n",
    "        grey_img = cv2.cvtColor(self.image, cv2.COLOR_BGR2GRAY)\n",
    "        invert_img=cv2.bitwise_not(grey_img)\n",
    "        blur_img=cv2.GaussianBlur(invert_img, (self.k_size,self.k_size),0)\n",
    "        invblur_img=cv2.bitwise_not(blur_img)\n",
    "        self.new=cv2.divide(grey_img,invblur_img, scale=256.0)\n",
    "        self.sketch = PIL.Image.fromarray(self.new)\n",
    "        return self.sketch\n",
    "\n",
    "    def display(self):\n",
    "        if self.new == None:\n",
    "            _ = self.convert()\n",
    "        fig = plt.figure()\n",
    "        ax1 = fig.add_subplot(1,2,1)\n",
    "        ax1.imshow(self.image_rgb)\n",
    "        ax2 = fig.add_subplot(1,2,2)\n",
    "        ax2.imshow(self.minimize(self.new), cmap = 'gray')\n",
    "    def minimize(self,data):\n",
    "        data = data/data.max()\n",
    "        data -= data.min()\n",
    "        return np.clip(data - (data.max()*self.depth),0,1)\n"
   ]
  },
  {
   "cell_type": "code",
   "execution_count": 2,
   "metadata": {},
   "outputs": [],
   "source": [
    "import tkinter\n",
    "\n",
    "class gui_stuff:\n",
    "    def create_gui(self,):\n",
    "        self.func = None\n",
    "        self.ws = TkinterDnD.Tk()\n",
    "        self.ws.title('SKETCH')\n",
    "        self.ws.geometry('800x500')\n",
    "        self.ws.config(bg='#152f31')\n",
    "        image_entry = tkinter.Label(self.ws, height=20, width=40)\n",
    "        image_entry.place(relx = .1,rely = .23)\n",
    "        image_entry.drop_target_register(DND_FILES)\n",
    "        image_entry.dnd_bind('<<Drop>>', self.display_img)\n",
    "\n",
    "        sketch_entry = tk.Label(self.ws, height=20, width=40)\n",
    "        sketch_entry.place(relx = .55,rely = .23)\n",
    "\n",
    "        converter = tk.Button(self.ws,text = 'CONVERT',height = 1,width = 10 ,command = self.display_sketch)\n",
    "        converter.place(relx = .45,rely = .85)\n",
    "        \n",
    "        self.ws.mainloop()\n",
    "    def display_img(self,event):\n",
    "        path = event.data[1:-1]\n",
    "        self.func = transform(path)\n",
    "        photo = ImageTk.PhotoImage(self.func.disp_img)\n",
    "        image_entry = tk.Label(self.ws,image = photo)\n",
    "        image_entry.image = photo\n",
    "        image_entry.place(relx = .1,rely = .23)\n",
    "    def display_sketch(self):\n",
    "        if self.func != None:\n",
    "            sketch = ImageTk.PhotoImage(self.func.convert())\n",
    "            sketch_entry = tk.Label(self.ws,image = sketch)\n",
    "            sketch_entry.image = sketch\n",
    "            sketch_entry.place(relx = .55,rely = .23)\n",
    "            \n",
    "        else:\n",
    "            sketch_entry = tk.Label(self.ws,text='⚠️please add an image')\n",
    "            sketch_entry.place(relx = .55,rely = .23)\n",
    "gui_stuff().create_gui()  \n",
    "\n",
    "\n",
    "\n"
   ]
  }
 ],
 "metadata": {
  "kernelspec": {
   "display_name": "Python 3.9.13 64-bit (microsoft store)",
   "language": "python",
   "name": "python3"
  },
  "language_info": {
   "codemirror_mode": {
    "name": "ipython",
    "version": 3
   },
   "file_extension": ".py",
   "mimetype": "text/x-python",
   "name": "python",
   "nbconvert_exporter": "python",
   "pygments_lexer": "ipython3",
   "version": "3.11.4"
  },
  "orig_nbformat": 4,
  "vscode": {
   "interpreter": {
    "hash": "8e284ee3255a07ad8bf76694974743c4c81cb57e7c969474d752d949b11d721e"
   }
  }
 },
 "nbformat": 4,
 "nbformat_minor": 2
}
